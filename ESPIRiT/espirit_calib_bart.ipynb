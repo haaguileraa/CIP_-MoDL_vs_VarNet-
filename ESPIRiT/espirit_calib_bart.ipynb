{
 "cells": [
  {
   "cell_type": "code",
   "execution_count": 2,
   "metadata": {},
   "outputs": [],
   "source": [
    "import numpy as np\n",
    "import h5py as h5\n",
    "import bart.python.bart as bart\n"
   ]
  },
  {
   "cell_type": "code",
   "execution_count": 3,
   "metadata": {},
   "outputs": [],
   "source": [
    "def save(ground_truth: np.ndarray, csm: np.ndarray, mask: np.ndarray, name: str, mode = 'train'):\n",
    "    with h5.File(name, 'w') as target: # creating a new file containing the necesary data to use it with MoDL\n",
    "            # order: <KeysViewHDF5 ['atb', 'csm', 'mask', 'org']>\n",
    "            if mode == 'train':\n",
    "                #target.create_dataset('atb', data = atb_data)    # is the aliased/noisy image # It is not necessary for Brain_data\n",
    "                target.create_dataset('trnCsm', data = csm)    # saves the coil sensitivity maps\n",
    "                target.create_dataset('trnMask', data = mask)   # is the undersampling mask \n",
    "                target.create_dataset('trnOrg', data = ground_truth)#f['reconstruction_rss'])    # this is the original ground truth\n",
    "            elif mode == 'test':\n",
    "                #target.create_dataset('atb', data = atb_data)    # is the aliased/noisy image # It is not necessary for Brain_data\n",
    "                target.create_dataset('tstCsm', data = csm)    # saves the coil sensitivity maps\n",
    "                target.create_dataset('tstMask', data = mask)   # is the undersampling mask \n",
    "                target.create_dataset('tstOrg', data = ground_truth)#f['reconstruction_rss'])    # this is the original ground truth"
   ]
  },
  {
   "cell_type": "code",
   "execution_count": 5,
   "metadata": {},
   "outputs": [],
   "source": [
    "f = h5.File('train/file_brain_AXFLAIR_201_6002906.h5', 'r')\n",
    "ksp = f['kspace'] # slices, coils, h, w\n",
    "#ksp = np.transpose(ksp, (0,2,3,1)) \n",
    "#ksp = np.swapaxes(ksp, 0,1) # -> coils, slices, h, w"
   ]
  },
  {
   "cell_type": "code",
   "execution_count": null,
   "metadata": {},
   "outputs": [],
   "source": [
    "esp_maps = []\n",
    "nslice = len(f['kspace'])\n",
    "for sl in range(nslice):\n",
    "    ksp_slice = f['kspace'][sl]\n",
    "    ksp_slice = np.moveaxis(ksp_slice,0,-1)\n",
    "    maps = bart.bart(1,'ecalib -m 1 -a -d 0 -g -r 24',ksp_slice[None])\n",
    "    esp_maps.append(np.moveaxis(maps[0],-1,0))\n",
    "esp_maps = np.stack(esp_maps,0)\n",
    "print('Saving the espirit_maps of size:', esp_maps.shape)\n"
   ]
  },
  {
   "cell_type": "code",
   "execution_count": null,
   "metadata": {},
   "outputs": [],
   "source": []
  }
 ],
 "metadata": {
  "kernelspec": {
   "display_name": "myenv",
   "language": "python",
   "name": "python3"
  },
  "language_info": {
   "codemirror_mode": {
    "name": "ipython",
    "version": 3
   },
   "file_extension": ".py",
   "mimetype": "text/x-python",
   "name": "python",
   "nbconvert_exporter": "python",
   "pygments_lexer": "ipython3",
   "version": "3.10.8"
  },
  "orig_nbformat": 4
 },
 "nbformat": 4,
 "nbformat_minor": 2
}
