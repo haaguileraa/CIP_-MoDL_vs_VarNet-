{
 "cells": [
  {
   "cell_type": "markdown",
   "metadata": {},
   "source": [
    "## Let's use sigpy"
   ]
  },
  {
   "cell_type": "code",
   "execution_count": null,
   "metadata": {},
   "outputs": [],
   "source": [
    "# ! conda install -c frankong sigpy # didn't work so I just pip-installed sigpy"
   ]
  },
  {
   "cell_type": "code",
   "execution_count": 1,
   "metadata": {},
   "outputs": [
    {
     "name": "stderr",
     "output_type": "stream",
     "text": [
      "/home/woody/iwbi/iwbi009h/software/privat/conda/envs/myenv/lib/python3.10/site-packages/tqdm/auto.py:22: TqdmWarning: IProgress not found. Please update jupyter and ipywidgets. See https://ipywidgets.readthedocs.io/en/stable/user_install.html\n",
      "  from .autonotebook import tqdm as notebook_tqdm\n"
     ]
    }
   ],
   "source": [
    "from sigpy.mri.app import EspiritCalib as Espirit\n",
    "import numpy as np\n",
    "import sigpy as sp\n",
    "import h5py as h5"
   ]
  },
  {
   "cell_type": "markdown",
   "metadata": {},
   "source": [
    " Args:\n",
    " \n",
    "        * ksp (array): k-space array of shape [num_coils, n_ndim, ..., n_1]\n",
    "\n",
    "        * calib (tuple of ints): length-2 image shape.\n",
    "\n",
    "        * thresh (float): threshold for the calibration matrix.\n",
    "\n",
    "        * kernel_width (int): kernel width for the calibration matrix.\n",
    "\n",
    "        * max_power_iter (int): maximum number of power iterations.\n",
    "\n",
    "        * device (Device): computing device.\n",
    "        \n",
    "        * crop (int): cropping threshold.\n"
   ]
  },
  {
   "cell_type": "code",
   "execution_count": 2,
   "metadata": {},
   "outputs": [],
   "source": [
    "f = h5.File('train/file_brain_AXFLAIR_201_6002902.h5', 'r')\n",
    "ksp = f['kspace'] # slices, coils, h, w\n",
    "#ksp = np.transpose(ksp, (0,2,3,1)) \n",
    "ksp = np.swapaxes(ksp, 0,1) # -> coils, slices, h, w"
   ]
  },
  {
   "cell_type": "code",
   "execution_count": 4,
   "metadata": {},
   "outputs": [
    {
     "ename": "",
     "evalue": "",
     "output_type": "error",
     "traceback": [
      "\u001b[1;31mCanceled future for execute_request message before replies were done"
     ]
    },
    {
     "ename": "",
     "evalue": "",
     "output_type": "error",
     "traceback": [
      "\u001b[1;31mThe Kernel crashed while executing code in the the current cell or a previous cell. Please review the code in the cell(s) to identify a possible cause of the failure. Click <a href='https://aka.ms/vscodeJupyterKernelCrash'>here</a> for more info. View Jupyter <a href='command:jupyter.viewOutput'>log</a> for further details."
     ]
    }
   ],
   "source": [
    "#csm = Espirit(ksp, device=sp.Device(0)).run() # CuPy needed\n",
    "csm = Espirit(ksp).run() # CuPy needed"
   ]
  }
 ],
 "metadata": {
  "kernelspec": {
   "display_name": "Python 3",
   "language": "python",
   "name": "python3"
  },
  "language_info": {
   "codemirror_mode": {
    "name": "ipython",
    "version": 3
   },
   "file_extension": ".py",
   "mimetype": "text/x-python",
   "name": "python",
   "nbconvert_exporter": "python",
   "pygments_lexer": "ipython3",
   "version": "3.10.8"
  },
  "orig_nbformat": 4,
  "vscode": {
   "interpreter": {
    "hash": "6d4bcad7c14e08c831763fb13dfafb1ceb9163893c011df81118bdf0c9ab3c86"
   }
  }
 },
 "nbformat": 4,
 "nbformat_minor": 2
}
