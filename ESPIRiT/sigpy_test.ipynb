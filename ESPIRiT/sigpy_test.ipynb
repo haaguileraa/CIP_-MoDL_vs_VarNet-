{
 "cells": [
  {
   "cell_type": "markdown",
   "metadata": {},
   "source": [
    "## Let's use sigpy"
   ]
  },
  {
   "cell_type": "code",
   "execution_count": null,
   "metadata": {},
   "outputs": [],
   "source": [
    "# ! conda install -c frankong sigpy # didn't work so I just pip-installed sigpy"
   ]
  },
  {
   "cell_type": "code",
   "execution_count": 1,
   "metadata": {},
   "source": [
    "# ! salloc.tinygpu --gres=gpu:1 --time=12:00:00\n",
    "# ! conda activate myenv\n",
    "from sigpy.mri.app import EspiritCalib as Espirit\n",
    "import numpy as np\n",
    "import sigpy as sp\n",
    "import h5py as h5"
   ]
  },
  {
   "cell_type": "markdown",
   "metadata": {},
   "source": [
    " Args:\n",
    " \n",
    "        * ksp (array): k-space array of shape [num_coils, n_ndim, ..., n_1]\n",
    "\n",
    "        * calib (tuple of ints): length-2 image shape.\n",
    "\n",
    "        * thresh (float): threshold for the calibration matrix.\n",
    "\n",
    "        * kernel_width (int): kernel width for the calibration matrix.\n",
    "\n",
    "        * max_power_iter (int): maximum number of power iterations.\n",
    "\n",
    "        * device (Device): computing device.\n",
    "        \n",
    "        * crop (int): cropping threshold.\n"
   ]
  },
  {
   "cell_type": "code",
   "execution_count": 9,
   "metadata": {},
   "outputs": [],
   "source": [
    "orgFilename = 'file_brain_AXFLAIR_201_6002903.h5'\n",
    "\n",
    "f = h5.File('train/'+ orgFilename, 'r')\n",
    "ksp = f['kspace'] # slices, coils, h, w\n",
    "#ksp = np.transpose(ksp, (0,2,3,1)) \n",
    "ksp = np.swapaxes(ksp, 0,1) # -> coils, slices, h, w"
   ]
  },
  {
   "cell_type": "code",
   "execution_count": 10,
   "metadata": {},
   "outputs": [
    {
     "data": {
      "application/vnd.jupyter.widget-view+json": {
       "model_id": "c590171ac2ec4328bdd1e42aa1fa5660",
       "version_major": 2,
       "version_minor": 0
      },
      "text/plain": [
       "EspiritCalib:   0%|          | 0/100 [00:00<?, ?it/s]"
      ]
     },
     "metadata": {},
     "output_type": "display_data"
    },
    {
     "data": {
      "application/vnd.jupyter.widget-view+json": {
       "model_id": "299a4a1a886d4d5a83dd278b45a391cb",
       "version_major": 2,
       "version_minor": 0
      },
      "text/plain": [
       "EspiritCalib:   0%|          | 0/100 [00:00<?, ?it/s]"
      ]
     },
     "metadata": {},
     "output_type": "display_data"
    },
    {
     "data": {
      "application/vnd.jupyter.widget-view+json": {
       "model_id": "de4bea841e5c47de890b4c6b57089d53",
       "version_major": 2,
       "version_minor": 0
      },
      "text/plain": [
       "EspiritCalib:   0%|          | 0/100 [00:00<?, ?it/s]"
      ]
     },
     "metadata": {},
     "output_type": "display_data"
    },
    {
     "data": {
      "application/vnd.jupyter.widget-view+json": {
       "model_id": "a365aa5e193a4713869ca2bf054e8a2f",
       "version_major": 2,
       "version_minor": 0
      },
      "text/plain": [
       "EspiritCalib:   0%|          | 0/100 [00:00<?, ?it/s]"
      ]
     },
     "metadata": {},
     "output_type": "display_data"
    },
    {
     "data": {
      "application/vnd.jupyter.widget-view+json": {
       "model_id": "8d669959e11b4983becafd8f374fafe0",
       "version_major": 2,
       "version_minor": 0
      },
      "text/plain": [
       "EspiritCalib:   0%|          | 0/100 [00:00<?, ?it/s]"
      ]
     },
     "metadata": {},
     "output_type": "display_data"
    },
    {
     "data": {
      "application/vnd.jupyter.widget-view+json": {
       "model_id": "c1409889ed2d4a60a7aa24ff30fdd563",
       "version_major": 2,
       "version_minor": 0
      },
      "text/plain": [
       "EspiritCalib:   0%|          | 0/100 [00:00<?, ?it/s]"
      ]
     },
     "metadata": {},
     "output_type": "display_data"
    },
    {
     "data": {
      "application/vnd.jupyter.widget-view+json": {
       "model_id": "d177684ffc2143b9a15f49469963bf78",
       "version_major": 2,
       "version_minor": 0
      },
      "text/plain": [
       "EspiritCalib:   0%|          | 0/100 [00:00<?, ?it/s]"
      ]
     },
     "metadata": {},
     "output_type": "display_data"
    },
    {
     "data": {
      "application/vnd.jupyter.widget-view+json": {
       "model_id": "771e3dc2ec9546778b9539cf35556c89",
       "version_major": 2,
       "version_minor": 0
      },
      "text/plain": [
       "EspiritCalib:   0%|          | 0/100 [00:00<?, ?it/s]"
      ]
     },
     "metadata": {},
     "output_type": "display_data"
    },
    {
     "data": {
      "application/vnd.jupyter.widget-view+json": {
       "model_id": "88d5ea613d684d32839d9137a600d5f2",
       "version_major": 2,
       "version_minor": 0
      },
      "text/plain": [
       "EspiritCalib:   0%|          | 0/100 [00:00<?, ?it/s]"
      ]
     },
     "metadata": {},
     "output_type": "display_data"
    },
    {
     "data": {
      "application/vnd.jupyter.widget-view+json": {
       "model_id": "d9983ba8f1bb43bc8041c2fe4ecc0138",
       "version_major": 2,
       "version_minor": 0
      },
      "text/plain": [
       "EspiritCalib:   0%|          | 0/100 [00:00<?, ?it/s]"
      ]
     },
     "metadata": {},
     "output_type": "display_data"
    },
    {
     "data": {
      "application/vnd.jupyter.widget-view+json": {
       "model_id": "79ded5d0b1a74de594ffac354da3f283",
       "version_major": 2,
       "version_minor": 0
      },
      "text/plain": [
       "EspiritCalib:   0%|          | 0/100 [00:00<?, ?it/s]"
      ]
     },
     "metadata": {},
     "output_type": "display_data"
    },
    {
     "data": {
      "application/vnd.jupyter.widget-view+json": {
       "model_id": "192ab90257f2407d9c45da10d5b143b4",
       "version_major": 2,
       "version_minor": 0
      },
      "text/plain": [
       "EspiritCalib:   0%|          | 0/100 [00:00<?, ?it/s]"
      ]
     },
     "metadata": {},
     "output_type": "display_data"
    },
    {
     "data": {
      "application/vnd.jupyter.widget-view+json": {
       "model_id": "2dd229890829468f8a75928f7b0ced1a",
       "version_major": 2,
       "version_minor": 0
      },
      "text/plain": [
       "EspiritCalib:   0%|          | 0/100 [00:00<?, ?it/s]"
      ]
     },
     "metadata": {},
     "output_type": "display_data"
    },
    {
     "ename": "",
     "evalue": "",
     "output_type": "error",
     "traceback": [
      "\u001b[1;31mCanceled future for execute_request message before replies were done"
     ]
    },
    {
     "ename": "",
     "evalue": "",
     "output_type": "error",
     "traceback": [
      "\u001b[1;31mThe Kernel crashed while executing code in the the current cell or a previous cell. Please review the code in the cell(s) to identify a possible cause of the failure. Click <a href='https://aka.ms/vscodeJupyterKernelCrash'>here</a> for more info. View Jupyter <a href='command:jupyter.viewOutput'>log</a> for further details."
     ]
    }
   ],
   "source": [
    "#csm = Espirit(ksp, device=sp.Device(0)).run() # CuPy needed\n",
    "scm = []\n",
    "for s in range(ksp.shape[1]):\n",
    "    k1 = ksp[:, s, ...]\n",
    "\n",
    "    #c1 = Espirit(k1, device=sp.Device(0)).run() # CuPy needed\n",
    "    c1 = Espirit(k1).run() # CuPy needed\n",
    "\n",
    "    scm.append(c1)\n",
    "\n",
    "scm = np.array(scm)"
   ]
  },
  {
   "cell_type": "code",
   "execution_count": 5,
   "metadata": {},
   "outputs": [],
   "source": [
    "def saveCSM(csm: np.ndarray, name: str, mode = 'train'):\n",
    "    with h5.File(name, 'w') as target: # creating a new file containing the necesary data to use it with MoDL\n",
    "            if mode == 'train':\n",
    "                #target.create_dataset('atb', data = atb_data)    # is the aliased/noisy image # It is not necessary for Brain_data\n",
    "                target.create_dataset('trnCsm', data = csm)    # saves the coil sensitivity maps\n",
    "            elif mode == 'test':\n",
    "                #target.create_dataset('atb', data = atb_data)    # is the aliased/noisy image # It is not necessary for Brain_data\n",
    "                target.create_dataset('tstCsm', data = csm)    # saves the coil sensitivity maps"
   ]
  },
  {
   "cell_type": "code",
   "execution_count": 7,
   "metadata": {},
   "outputs": [],
   "source": [
    "filename = 'csm_' + orgFilename\n",
    "saveCSM(scm, filename)"
   ]
  },
  {
   "cell_type": "code",
   "execution_count": null,
   "metadata": {},
   "outputs": [],
   "source": [
    "import matplotlib.pyplot as plt\n",
    "plt.show()"
   ]
  },
  {
   "cell_type": "code",
   "execution_count": null,
   "metadata": {},
   "outputs": [],
   "source": [
    "def save(ground_truth: np.ndarray, csm: np.ndarray, mask: np.ndarray, name: str, mode = 'train'):\n",
    "    with h5.File(name, 'w') as target: # creating a new file containing the necesary data to use it with MoDL\n",
    "            # order: <KeysViewHDF5 ['atb', 'csm', 'mask', 'org']>\n",
    "            if mode == 'train':\n",
    "                #target.create_dataset('atb', data = atb_data)    # is the aliased/noisy image # It is not necessary for Brain_data\n",
    "                target.create_dataset('trnCsm', data = csm)    # saves the coil sensitivity maps\n",
    "                target.create_dataset('trnMask', data = mask)   # is the undersampling mask \n",
    "                target.create_dataset('trnOrg', data = ground_truth)#f['reconstruction_rss'])    # this is the original ground truth\n",
    "            elif mode == 'test':\n",
    "                #target.create_dataset('atb', data = atb_data)    # is the aliased/noisy image # It is not necessary for Brain_data\n",
    "                target.create_dataset('tstCsm', data = csm)    # saves the coil sensitivity maps\n",
    "                target.create_dataset('tstMask', data = mask)   # is the undersampling mask \n",
    "                target.create_dataset('tstOrg', data = ground_truth)#f['reconstruction_rss'])    # this is the original ground truth"
   ]
  }
 ],
 "metadata": {
  "kernelspec": {
   "display_name": "Python 3",
   "language": "python",
   "name": "python3"
  },
  "language_info": {
   "codemirror_mode": {
    "name": "ipython",
    "version": 3
   },
   "file_extension": ".py",
   "mimetype": "text/x-python",
   "name": "python",
   "nbconvert_exporter": "python",
   "pygments_lexer": "ipython3",
   "version": "3.10.8"
  },
  "orig_nbformat": 4,
  "vscode": {
   "interpreter": {
    "hash": "6d4bcad7c14e08c831763fb13dfafb1ceb9163893c011df81118bdf0c9ab3c86"
   }
  }
 },
 "nbformat": 4,
 "nbformat_minor": 2
}
