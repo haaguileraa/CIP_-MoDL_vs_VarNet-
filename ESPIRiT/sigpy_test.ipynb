{
 "cells": [
  {
   "cell_type": "markdown",
   "metadata": {},
   "source": [
    "## Let's use sigpy"
   ]
  },
  {
   "cell_type": "code",
   "execution_count": null,
   "metadata": {},
   "outputs": [],
   "source": [
    "# ! conda install -c frankong sigpy # didn't work so I just pip-installed sigpy"
   ]
  },
  {
   "cell_type": "code",
   "execution_count": 2,
   "metadata": {},
   "outputs": [
    {
     "name": "stderr",
     "output_type": "stream",
     "text": [
      "/home/hernan/Documents/Master/WiSe22/CIP/CIP_-MoDL_vs_VarNet-/.venv/lib/python3.10/site-packages/tqdm/auto.py:21: TqdmWarning: IProgress not found. Please update jupyter and ipywidgets. See https://ipywidgets.readthedocs.io/en/stable/user_install.html\n",
      "  from .autonotebook import tqdm as notebook_tqdm\n"
     ]
    }
   ],
   "source": [
    "# ! salloc.tinygpu --gres=gpu:1 --time=12:00:00\n",
    "from sigpy.mri.app import EspiritCalib as Espirit\n",
    "import numpy as np\n",
    "import sigpy as sp\n",
    "import h5py as h5"
   ]
  },
  {
   "cell_type": "markdown",
   "metadata": {},
   "source": [
    " Args:\n",
    " \n",
    "        * ksp (array): k-space array of shape [num_coils, n_ndim, ..., n_1]\n",
    "\n",
    "        * calib (tuple of ints): length-2 image shape.\n",
    "\n",
    "        * thresh (float): threshold for the calibration matrix.\n",
    "\n",
    "        * kernel_width (int): kernel width for the calibration matrix.\n",
    "\n",
    "        * max_power_iter (int): maximum number of power iterations.\n",
    "\n",
    "        * device (Device): computing device.\n",
    "        \n",
    "        * crop (int): cropping threshold.\n"
   ]
  },
  {
   "cell_type": "code",
   "execution_count": 5,
   "metadata": {},
   "outputs": [
    {
     "ename": "",
     "evalue": "",
     "output_type": "error",
     "traceback": [
      "\u001b[1;31mThe Kernel crashed while executing code in the the current cell or a previous cell. Please review the code in the cell(s) to identify a possible cause of the failure. Click <a href='https://aka.ms/vscodeJupyterKernelCrash'>here</a> for more info. View Jupyter <a href='command:jupyter.viewOutput'>log</a> for further details."
     ]
    },
    {
     "ename": "",
     "evalue": "",
     "output_type": "error",
     "traceback": [
      "\u001b[1;31mCanceled future for execute_request message before replies were done"
     ]
    }
   ],
   "source": [
    "orgFilename = 'file_brain_AXFLAIR_201_6002910.h5'\n",
    "\n",
    "folder = \"/home/hernan/Documents/Master/WiSe22/CIP/CIP_-MoDL_vs_VarNet-/multicoil_train/\"\n",
    "with h5.File(folder+ orgFilename, 'r') as f:\n",
    "    ksp = f['kspace'][()] # slices, coils, h, w\n",
    "    #ksp = np.transpose(ksp, (0,2,3,1)) \n",
    "    #ksp = np.swapaxes(ksp, 0,1) # -> coils, slices, h, w\n",
    "    #csm = Espirit(ksp, device=sp.Device(0)).run() # CuPy needed\n",
    "    scm = []\n",
    "    for s in range(ksp.shape[0]):\n",
    "        #k1 = ksp[:, s, ...]\n",
    "        #c1 = Espirit(k1, device=sp.Device(0)).run() # CuPy needed\n",
    "        c1 = Espirit(ksp).run() # CuPy needed\n",
    "        scm.append(c1)\n",
    "\n",
    "    scm = np.array(scm)"
   ]
  },
  {
   "cell_type": "code",
   "execution_count": 5,
   "metadata": {},
   "outputs": [],
   "source": [
    "def saveCSM(csm: np.ndarray, name: str, mode = 'train'):\n",
    "    with h5.File(name, 'w') as target: # creating a new file containing the necesary data to use it with MoDL\n",
    "            if mode == 'train':\n",
    "                #target.create_dataset('atb', data = atb_data)    # is the aliased/noisy image # It is not necessary for Brain_data\n",
    "                target.create_dataset('trnCsm', data = csm)    # saves the coil sensitivity maps\n",
    "            elif mode == 'test':\n",
    "                #target.create_dataset('atb', data = atb_data)    # is the aliased/noisy image # It is not necessary for Brain_data\n",
    "                target.create_dataset('tstCsm', data = csm)    # saves the coil sensitivity maps"
   ]
  },
  {
   "cell_type": "code",
   "execution_count": 7,
   "metadata": {},
   "outputs": [],
   "source": [
    "filename = 'csm_' + orgFilename\n",
    "saveCSM(scm, filename)"
   ]
  },
  {
   "cell_type": "code",
   "execution_count": null,
   "metadata": {},
   "outputs": [],
   "source": [
    "import matplotlib.pyplot as plt\n",
    "plt.show()"
   ]
  },
  {
   "cell_type": "code",
   "execution_count": null,
   "metadata": {},
   "outputs": [],
   "source": [
    "def save(ground_truth: np.ndarray, csm: np.ndarray, mask: np.ndarray, name: str, mode = 'train'):\n",
    "    with h5.File(name, 'w') as target: # creating a new file containing the necesary data to use it with MoDL\n",
    "            # order: <KeysViewHDF5 ['atb', 'csm', 'mask', 'org']>\n",
    "            if mode == 'train':\n",
    "                #target.create_dataset('atb', data = atb_data)    # is the aliased/noisy image # It is not necessary for Brain_data\n",
    "                target.create_dataset('trnCsm', data = csm)    # saves the coil sensitivity maps\n",
    "                target.create_dataset('trnMask', data = mask)   # is the undersampling mask \n",
    "                target.create_dataset('trnOrg', data = ground_truth)#f['reconstruction_rss'])    # this is the original ground truth\n",
    "            elif mode == 'test':\n",
    "                #target.create_dataset('atb', data = atb_data)    # is the aliased/noisy image # It is not necessary for Brain_data\n",
    "                target.create_dataset('tstCsm', data = csm)    # saves the coil sensitivity maps\n",
    "                target.create_dataset('tstMask', data = mask)   # is the undersampling mask \n",
    "                target.create_dataset('tstOrg', data = ground_truth)#f['reconstruction_rss'])    # this is the original ground truth"
   ]
  },
  {
   "cell_type": "code",
   "execution_count": null,
   "metadata": {},
   "outputs": [],
   "source": [
    "\n"
   ]
  }
 ],
 "metadata": {
  "kernelspec": {
   "display_name": ".venv",
   "language": "python",
   "name": "python3"
  },
  "language_info": {
   "codemirror_mode": {
    "name": "ipython",
    "version": 3
   },
   "file_extension": ".py",
   "mimetype": "text/x-python",
   "name": "python",
   "nbconvert_exporter": "python",
   "pygments_lexer": "ipython3",
   "version": "3.10.6"
  },
  "orig_nbformat": 4,
  "vscode": {
   "interpreter": {
    "hash": "234964a6ab8148bd042c1fa173ce37259aa6e739191fed65bd93d38bbc92fcb3"
   }
  }
 },
 "nbformat": 4,
 "nbformat_minor": 2
}
