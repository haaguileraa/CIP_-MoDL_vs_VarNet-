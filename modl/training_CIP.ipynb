{
 "cells": [
  {
   "cell_type": "code",
   "execution_count": 7,
   "metadata": {},
   "outputs": [],
   "source": [
    "import tensorflow as tf"
   ]
  },
  {
   "cell_type": "code",
   "execution_count": 8,
   "metadata": {},
   "outputs": [],
   "source": [
    "import h5py as h5"
   ]
  },
  {
   "cell_type": "code",
   "execution_count": 9,
   "metadata": {},
   "outputs": [],
   "source": [
    "#tf.reset_default_graph()\n",
    "\n",
    "\n",
    "modelDir='knee_trained_MoDL'\n",
    "\n",
    "loadChkPoint=tf.train.latest_checkpoint(modelDir)"
   ]
  },
  {
   "cell_type": "code",
   "execution_count": 14,
   "metadata": {},
   "outputs": [
    {
     "name": "stdout",
     "output_type": "stream",
     "text": [
      "<KeysViewHDF5 ['ismrmrd_header', 'kspace', 'reconstruction_rss']>\n",
      "<HDF5 dataset \"reconstruction_rss\": shape (16, 320, 320), type \"<f4\">\n",
      "<HDF5 dataset \"kspace\": shape (16, 20, 640, 320), type \"<c8\">\n"
     ]
    }
   ],
   "source": [
    "with h5.File('../train/file_brain_AXFLAIR_200_6002425.h5','r') as f:\n",
    "    print(f.keys())\n",
    "    print(f['reconstruction_rss'])\n",
    "    print(f['kspace'])"
   ]
  },
  {
   "cell_type": "code",
   "execution_count": 15,
   "metadata": {},
   "outputs": [
    {
     "name": "stdout",
     "output_type": "stream",
     "text": [
      "<KeysViewHDF5 ['atb', 'csm', 'mask', 'org']>\n",
      "<HDF5 dataset \"atb\": shape (1, 640, 368), type \"<c8\">\n"
     ]
    }
   ],
   "source": [
    "with h5.File('knee_demo_data.h5','r') as f:\n",
    "    print(f.keys())\n",
    "    print(f['atb'])"
   ]
  },
  {
   "cell_type": "code",
   "execution_count": null,
   "metadata": {},
   "outputs": [],
   "source": [
    "with h5.File('demoImage.hdf5','r') as f:\n",
    "    print(f.keys())\n",
    "    print(f['tstMask'])"
   ]
  }
 ],
 "metadata": {
  "kernelspec": {
   "display_name": "Python [conda env:conda-myenv]",
   "language": "python",
   "name": "conda-env-conda-myenv-py"
  },
  "language_info": {
   "codemirror_mode": {
    "name": "ipython",
    "version": 3
   },
   "file_extension": ".py",
   "mimetype": "text/x-python",
   "name": "python",
   "nbconvert_exporter": "python",
   "pygments_lexer": "ipython3",
   "version": "3.10.8"
  }
 },
 "nbformat": 4,
 "nbformat_minor": 4
}
