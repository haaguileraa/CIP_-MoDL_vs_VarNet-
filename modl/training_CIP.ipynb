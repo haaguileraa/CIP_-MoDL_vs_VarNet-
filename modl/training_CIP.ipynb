{
 "cells": [
  {
   "cell_type": "code",
   "execution_count": 7,
   "metadata": {},
   "outputs": [],
   "source": [
    "#import tensorflow as tf"
   ]
  },
  {
   "cell_type": "code",
   "execution_count": 1,
   "metadata": {},
   "outputs": [],
   "source": [
    "import h5py as h5"
   ]
  },
  {
   "cell_type": "code",
   "execution_count": 9,
   "metadata": {},
   "outputs": [],
   "source": [
    "#tf.reset_default_graph()\n",
    "\n",
    "\n",
    "# modelDir='knee_trained_MoDL'\n",
    "\n",
    "# loadChkPoint=tf.train.latest_checkpoint(modelDir)"
   ]
  },
  {
   "cell_type": "code",
   "execution_count": 9,
   "metadata": {},
   "outputs": [
    {
     "name": "stdout",
     "output_type": "stream",
     "text": [
      "<KeysViewHDF5 ['ismrmrd_header', 'kspace', 'reconstruction_rss']>\n",
      "<HDF5 dataset \"reconstruction_rss\": shape (12, 320, 320), type \"<f4\">\n",
      "<HDF5 dataset \"kspace\": shape (12, 20, 640, 320), type \"<c8\">\n",
      "<KeysViewHDF5 ['atb', 'org']>\n"
     ]
    }
   ],
   "source": [
    "with h5.File('/home/hpc/iwbi/iwbi009h/CIP_-MoDL_vs_VarNet-/test/file_brain_AXT1_201_6002695.h5','r') as f:\n",
    "    print(f.keys())\n",
    "    print(f['reconstruction_rss'])\n",
    "    print(f['kspace'])\n",
    "    with h5.File('test.h5', 'w') as target:\n",
    "        target.create_dataset('atb', data = f['reconstruction_rss'])\n",
    "        target.create_dataset('org', data = f['kspace'])\n",
    "        print(target.keys())"
   ]
  },
  {
   "cell_type": "code",
   "execution_count": 5,
   "metadata": {},
   "outputs": [
    {
     "name": "stdout",
     "output_type": "stream",
     "text": [
      "<KeysViewHDF5 ['atb', 'csm', 'mask', 'org']>\n",
      "<HDF5 dataset \"atb\": shape (1, 640, 368), type \"<c8\">\n",
      "<HDF5 dataset \"csm\": shape (1, 15, 640, 368), type \"<c8\">\n"
     ]
    }
   ],
   "source": [
    "with h5.File('knee_demo_data.h5','r') as f:\n",
    "    print(f.keys())\n",
    "    print(f['atb'])\n",
    "    print(f['csm'])"
   ]
  },
  {
   "cell_type": "code",
   "execution_count": null,
   "metadata": {},
   "outputs": [],
   "source": [
    "with h5.File('demoImage.hdf5','r') as f:\n",
    "    print(f.keys())\n",
    "    print(f['tstMask'])"
   ]
  }
 ],
 "metadata": {
  "kernelspec": {
   "display_name": "myenv",
   "language": "python",
   "name": "python3"
  },
  "language_info": {
   "codemirror_mode": {
    "name": "ipython",
    "version": 3
   },
   "file_extension": ".py",
   "mimetype": "text/x-python",
   "name": "python",
   "nbconvert_exporter": "python",
   "pygments_lexer": "ipython3",
   "version": "3.10.8"
  },
  "vscode": {
   "interpreter": {
    "hash": "6d4bcad7c14e08c831763fb13dfafb1ceb9163893c011df81118bdf0c9ab3c86"
   }
  }
 },
 "nbformat": 4,
 "nbformat_minor": 4
}
